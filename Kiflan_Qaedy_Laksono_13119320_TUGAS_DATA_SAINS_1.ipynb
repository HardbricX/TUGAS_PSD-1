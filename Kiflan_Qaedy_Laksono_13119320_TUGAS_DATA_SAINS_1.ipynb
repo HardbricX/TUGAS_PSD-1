{
  "nbformat": 4,
  "nbformat_minor": 0,
  "metadata": {
    "colab": {
      "name": "Kiflan Qaedy Laksono_13119320_TUGAS DATA SAINS_1.ipynb",
      "provenance": []
    },
    "kernelspec": {
      "name": "python3",
      "display_name": "Python 3"
    },
    "language_info": {
      "name": "python"
    }
  },
  "cells": [
    {
      "cell_type": "code",
      "execution_count": null,
      "metadata": {
        "id": "o296qkdAHxfk"
      },
      "outputs": [],
      "source": [
        "#Kiflan Qaedy Laksono_13119320\n",
        "\n",
        "# Dekripsi: ini adalah program untuk meprediksi harga dari saham GOOG\n",
        "\n",
        "#Menggunakan Machine Learning yang bernama SVR (Support Vector Rergression)     "
      ]
    },
    {
      "cell_type": "code",
      "source": [
        "#Import the libraries\n",
        "from sklearn.svm import SVR\n",
        "import numpy as np\n",
        "import pandas as pd\n",
        "import matplotlib.pyplot as plt\n",
        "plt.style.use('seaborn-darkgrid')"
      ],
      "metadata": {
        "id": "dmm1j55kH7zR"
      },
      "execution_count": null,
      "outputs": []
    },
    {
      "cell_type": "markdown",
      "source": [
        "Mengimport packages atau libraries untuk memudahkan menulis program"
      ],
      "metadata": {
        "id": "4QCmvHcl7JDh"
      }
    },
    {
      "cell_type": "code",
      "source": [
        "#Load the data\n",
        "#from google.colab import files # Use to load data on Google Colab\n",
        "#uploaded = files.upload() # Use to load data on Google Colab\n",
        "df = pd.read_csv('GOOG_30_days.csv')\n",
        "df"
      ],
      "metadata": {
        "colab": {
          "base_uri": "https://localhost:8080/",
          "height": 676
        },
        "id": "qLHPxVs_H-IM",
        "outputId": "e9d30b19-f777-4358-e993-30e79ac80fd5"
      },
      "execution_count": null,
      "outputs": [
        {
          "output_type": "execute_result",
          "data": {
            "text/plain": [
              "          Date         Open         High          Low        Close  \\\n",
              "0   2021-05-03  2402.719971  2419.699951  2384.500000  2395.169922   \n",
              "1   2021-05-04  2369.739990  2379.260010  2311.699951  2354.250000   \n",
              "2   2021-05-05  2368.419922  2382.199951  2351.409912  2356.739990   \n",
              "3   2021-05-06  2350.639893  2382.709961  2342.337891  2381.350098   \n",
              "4   2021-05-07  2400.000000  2416.409912  2390.000000  2398.689941   \n",
              "5   2021-05-10  2374.889893  2378.000000  2334.729980  2341.659912   \n",
              "6   2021-05-11  2291.860107  2322.000000  2283.000000  2308.760010   \n",
              "7   2021-05-12  2261.709961  2285.370117  2230.050049  2239.080078   \n",
              "8   2021-05-13  2261.090088  2276.601074  2242.719971  2261.969971   \n",
              "9   2021-05-14  2291.830078  2321.139893  2283.320068  2316.159912   \n",
              "10  2021-05-17  2309.320068  2323.340088  2295.000000  2321.409912   \n",
              "11  2021-05-18  2336.906006  2343.149902  2303.159912  2303.429932   \n",
              "12  2021-05-19  2264.399902  2316.760010  2263.520020  2308.709961   \n",
              "13  2021-05-20  2328.040039  2360.340088  2321.090088  2356.090088   \n",
              "14  2021-05-21  2365.989990  2369.000000  2342.370117  2345.100098   \n",
              "15  2021-05-24  2367.000000  2418.479980  2360.110107  2406.669922   \n",
              "16  2021-05-25  2420.000000  2432.889893  2402.989990  2409.070068   \n",
              "17  2021-05-26  2412.834961  2442.944092  2412.514893  2433.530029   \n",
              "18  2021-05-27  2436.939941  2440.000000  2402.000000  2402.510010   \n",
              "19  2021-05-28  2421.959961  2428.139893  2407.689941  2411.560059   \n",
              "\n",
              "      Adj Close   Volume  \n",
              "0   2395.169922  1689400  \n",
              "1   2354.250000  1756000  \n",
              "2   2356.739990  1090300  \n",
              "3   2381.350098  1030900  \n",
              "4   2398.689941  1163600  \n",
              "5   2341.659912  1300300  \n",
              "6   2308.760010  1605500  \n",
              "7   2239.080078  1746700  \n",
              "8   2261.969971  1333500  \n",
              "9   2316.159912  1331200  \n",
              "10  2321.409912   992100  \n",
              "11  2303.429932   865100  \n",
              "12  2308.709961   967500  \n",
              "13  2356.090088  1191600  \n",
              "14  2345.100098  1141600  \n",
              "15  2406.669922  1062200  \n",
              "16  2409.070068   941900  \n",
              "17  2433.530029  1092800  \n",
              "18  2402.510010  1948100  \n",
              "19  2411.560059  1205400  "
            ],
            "text/html": [
              "\n",
              "  <div id=\"df-21023fd7-5eda-447e-a3b3-41b202c92bbe\">\n",
              "    <div class=\"colab-df-container\">\n",
              "      <div>\n",
              "<style scoped>\n",
              "    .dataframe tbody tr th:only-of-type {\n",
              "        vertical-align: middle;\n",
              "    }\n",
              "\n",
              "    .dataframe tbody tr th {\n",
              "        vertical-align: top;\n",
              "    }\n",
              "\n",
              "    .dataframe thead th {\n",
              "        text-align: right;\n",
              "    }\n",
              "</style>\n",
              "<table border=\"1\" class=\"dataframe\">\n",
              "  <thead>\n",
              "    <tr style=\"text-align: right;\">\n",
              "      <th></th>\n",
              "      <th>Date</th>\n",
              "      <th>Open</th>\n",
              "      <th>High</th>\n",
              "      <th>Low</th>\n",
              "      <th>Close</th>\n",
              "      <th>Adj Close</th>\n",
              "      <th>Volume</th>\n",
              "    </tr>\n",
              "  </thead>\n",
              "  <tbody>\n",
              "    <tr>\n",
              "      <th>0</th>\n",
              "      <td>2021-05-03</td>\n",
              "      <td>2402.719971</td>\n",
              "      <td>2419.699951</td>\n",
              "      <td>2384.500000</td>\n",
              "      <td>2395.169922</td>\n",
              "      <td>2395.169922</td>\n",
              "      <td>1689400</td>\n",
              "    </tr>\n",
              "    <tr>\n",
              "      <th>1</th>\n",
              "      <td>2021-05-04</td>\n",
              "      <td>2369.739990</td>\n",
              "      <td>2379.260010</td>\n",
              "      <td>2311.699951</td>\n",
              "      <td>2354.250000</td>\n",
              "      <td>2354.250000</td>\n",
              "      <td>1756000</td>\n",
              "    </tr>\n",
              "    <tr>\n",
              "      <th>2</th>\n",
              "      <td>2021-05-05</td>\n",
              "      <td>2368.419922</td>\n",
              "      <td>2382.199951</td>\n",
              "      <td>2351.409912</td>\n",
              "      <td>2356.739990</td>\n",
              "      <td>2356.739990</td>\n",
              "      <td>1090300</td>\n",
              "    </tr>\n",
              "    <tr>\n",
              "      <th>3</th>\n",
              "      <td>2021-05-06</td>\n",
              "      <td>2350.639893</td>\n",
              "      <td>2382.709961</td>\n",
              "      <td>2342.337891</td>\n",
              "      <td>2381.350098</td>\n",
              "      <td>2381.350098</td>\n",
              "      <td>1030900</td>\n",
              "    </tr>\n",
              "    <tr>\n",
              "      <th>4</th>\n",
              "      <td>2021-05-07</td>\n",
              "      <td>2400.000000</td>\n",
              "      <td>2416.409912</td>\n",
              "      <td>2390.000000</td>\n",
              "      <td>2398.689941</td>\n",
              "      <td>2398.689941</td>\n",
              "      <td>1163600</td>\n",
              "    </tr>\n",
              "    <tr>\n",
              "      <th>5</th>\n",
              "      <td>2021-05-10</td>\n",
              "      <td>2374.889893</td>\n",
              "      <td>2378.000000</td>\n",
              "      <td>2334.729980</td>\n",
              "      <td>2341.659912</td>\n",
              "      <td>2341.659912</td>\n",
              "      <td>1300300</td>\n",
              "    </tr>\n",
              "    <tr>\n",
              "      <th>6</th>\n",
              "      <td>2021-05-11</td>\n",
              "      <td>2291.860107</td>\n",
              "      <td>2322.000000</td>\n",
              "      <td>2283.000000</td>\n",
              "      <td>2308.760010</td>\n",
              "      <td>2308.760010</td>\n",
              "      <td>1605500</td>\n",
              "    </tr>\n",
              "    <tr>\n",
              "      <th>7</th>\n",
              "      <td>2021-05-12</td>\n",
              "      <td>2261.709961</td>\n",
              "      <td>2285.370117</td>\n",
              "      <td>2230.050049</td>\n",
              "      <td>2239.080078</td>\n",
              "      <td>2239.080078</td>\n",
              "      <td>1746700</td>\n",
              "    </tr>\n",
              "    <tr>\n",
              "      <th>8</th>\n",
              "      <td>2021-05-13</td>\n",
              "      <td>2261.090088</td>\n",
              "      <td>2276.601074</td>\n",
              "      <td>2242.719971</td>\n",
              "      <td>2261.969971</td>\n",
              "      <td>2261.969971</td>\n",
              "      <td>1333500</td>\n",
              "    </tr>\n",
              "    <tr>\n",
              "      <th>9</th>\n",
              "      <td>2021-05-14</td>\n",
              "      <td>2291.830078</td>\n",
              "      <td>2321.139893</td>\n",
              "      <td>2283.320068</td>\n",
              "      <td>2316.159912</td>\n",
              "      <td>2316.159912</td>\n",
              "      <td>1331200</td>\n",
              "    </tr>\n",
              "    <tr>\n",
              "      <th>10</th>\n",
              "      <td>2021-05-17</td>\n",
              "      <td>2309.320068</td>\n",
              "      <td>2323.340088</td>\n",
              "      <td>2295.000000</td>\n",
              "      <td>2321.409912</td>\n",
              "      <td>2321.409912</td>\n",
              "      <td>992100</td>\n",
              "    </tr>\n",
              "    <tr>\n",
              "      <th>11</th>\n",
              "      <td>2021-05-18</td>\n",
              "      <td>2336.906006</td>\n",
              "      <td>2343.149902</td>\n",
              "      <td>2303.159912</td>\n",
              "      <td>2303.429932</td>\n",
              "      <td>2303.429932</td>\n",
              "      <td>865100</td>\n",
              "    </tr>\n",
              "    <tr>\n",
              "      <th>12</th>\n",
              "      <td>2021-05-19</td>\n",
              "      <td>2264.399902</td>\n",
              "      <td>2316.760010</td>\n",
              "      <td>2263.520020</td>\n",
              "      <td>2308.709961</td>\n",
              "      <td>2308.709961</td>\n",
              "      <td>967500</td>\n",
              "    </tr>\n",
              "    <tr>\n",
              "      <th>13</th>\n",
              "      <td>2021-05-20</td>\n",
              "      <td>2328.040039</td>\n",
              "      <td>2360.340088</td>\n",
              "      <td>2321.090088</td>\n",
              "      <td>2356.090088</td>\n",
              "      <td>2356.090088</td>\n",
              "      <td>1191600</td>\n",
              "    </tr>\n",
              "    <tr>\n",
              "      <th>14</th>\n",
              "      <td>2021-05-21</td>\n",
              "      <td>2365.989990</td>\n",
              "      <td>2369.000000</td>\n",
              "      <td>2342.370117</td>\n",
              "      <td>2345.100098</td>\n",
              "      <td>2345.100098</td>\n",
              "      <td>1141600</td>\n",
              "    </tr>\n",
              "    <tr>\n",
              "      <th>15</th>\n",
              "      <td>2021-05-24</td>\n",
              "      <td>2367.000000</td>\n",
              "      <td>2418.479980</td>\n",
              "      <td>2360.110107</td>\n",
              "      <td>2406.669922</td>\n",
              "      <td>2406.669922</td>\n",
              "      <td>1062200</td>\n",
              "    </tr>\n",
              "    <tr>\n",
              "      <th>16</th>\n",
              "      <td>2021-05-25</td>\n",
              "      <td>2420.000000</td>\n",
              "      <td>2432.889893</td>\n",
              "      <td>2402.989990</td>\n",
              "      <td>2409.070068</td>\n",
              "      <td>2409.070068</td>\n",
              "      <td>941900</td>\n",
              "    </tr>\n",
              "    <tr>\n",
              "      <th>17</th>\n",
              "      <td>2021-05-26</td>\n",
              "      <td>2412.834961</td>\n",
              "      <td>2442.944092</td>\n",
              "      <td>2412.514893</td>\n",
              "      <td>2433.530029</td>\n",
              "      <td>2433.530029</td>\n",
              "      <td>1092800</td>\n",
              "    </tr>\n",
              "    <tr>\n",
              "      <th>18</th>\n",
              "      <td>2021-05-27</td>\n",
              "      <td>2436.939941</td>\n",
              "      <td>2440.000000</td>\n",
              "      <td>2402.000000</td>\n",
              "      <td>2402.510010</td>\n",
              "      <td>2402.510010</td>\n",
              "      <td>1948100</td>\n",
              "    </tr>\n",
              "    <tr>\n",
              "      <th>19</th>\n",
              "      <td>2021-05-28</td>\n",
              "      <td>2421.959961</td>\n",
              "      <td>2428.139893</td>\n",
              "      <td>2407.689941</td>\n",
              "      <td>2411.560059</td>\n",
              "      <td>2411.560059</td>\n",
              "      <td>1205400</td>\n",
              "    </tr>\n",
              "  </tbody>\n",
              "</table>\n",
              "</div>\n",
              "      <button class=\"colab-df-convert\" onclick=\"convertToInteractive('df-21023fd7-5eda-447e-a3b3-41b202c92bbe')\"\n",
              "              title=\"Convert this dataframe to an interactive table.\"\n",
              "              style=\"display:none;\">\n",
              "        \n",
              "  <svg xmlns=\"http://www.w3.org/2000/svg\" height=\"24px\"viewBox=\"0 0 24 24\"\n",
              "       width=\"24px\">\n",
              "    <path d=\"M0 0h24v24H0V0z\" fill=\"none\"/>\n",
              "    <path d=\"M18.56 5.44l.94 2.06.94-2.06 2.06-.94-2.06-.94-.94-2.06-.94 2.06-2.06.94zm-11 1L8.5 8.5l.94-2.06 2.06-.94-2.06-.94L8.5 2.5l-.94 2.06-2.06.94zm10 10l.94 2.06.94-2.06 2.06-.94-2.06-.94-.94-2.06-.94 2.06-2.06.94z\"/><path d=\"M17.41 7.96l-1.37-1.37c-.4-.4-.92-.59-1.43-.59-.52 0-1.04.2-1.43.59L10.3 9.45l-7.72 7.72c-.78.78-.78 2.05 0 2.83L4 21.41c.39.39.9.59 1.41.59.51 0 1.02-.2 1.41-.59l7.78-7.78 2.81-2.81c.8-.78.8-2.07 0-2.86zM5.41 20L4 18.59l7.72-7.72 1.47 1.35L5.41 20z\"/>\n",
              "  </svg>\n",
              "      </button>\n",
              "      \n",
              "  <style>\n",
              "    .colab-df-container {\n",
              "      display:flex;\n",
              "      flex-wrap:wrap;\n",
              "      gap: 12px;\n",
              "    }\n",
              "\n",
              "    .colab-df-convert {\n",
              "      background-color: #E8F0FE;\n",
              "      border: none;\n",
              "      border-radius: 50%;\n",
              "      cursor: pointer;\n",
              "      display: none;\n",
              "      fill: #1967D2;\n",
              "      height: 32px;\n",
              "      padding: 0 0 0 0;\n",
              "      width: 32px;\n",
              "    }\n",
              "\n",
              "    .colab-df-convert:hover {\n",
              "      background-color: #E2EBFA;\n",
              "      box-shadow: 0px 1px 2px rgba(60, 64, 67, 0.3), 0px 1px 3px 1px rgba(60, 64, 67, 0.15);\n",
              "      fill: #174EA6;\n",
              "    }\n",
              "\n",
              "    [theme=dark] .colab-df-convert {\n",
              "      background-color: #3B4455;\n",
              "      fill: #D2E3FC;\n",
              "    }\n",
              "\n",
              "    [theme=dark] .colab-df-convert:hover {\n",
              "      background-color: #434B5C;\n",
              "      box-shadow: 0px 1px 3px 1px rgba(0, 0, 0, 0.15);\n",
              "      filter: drop-shadow(0px 1px 2px rgba(0, 0, 0, 0.3));\n",
              "      fill: #FFFFFF;\n",
              "    }\n",
              "  </style>\n",
              "\n",
              "      <script>\n",
              "        const buttonEl =\n",
              "          document.querySelector('#df-21023fd7-5eda-447e-a3b3-41b202c92bbe button.colab-df-convert');\n",
              "        buttonEl.style.display =\n",
              "          google.colab.kernel.accessAllowed ? 'block' : 'none';\n",
              "\n",
              "        async function convertToInteractive(key) {\n",
              "          const element = document.querySelector('#df-21023fd7-5eda-447e-a3b3-41b202c92bbe');\n",
              "          const dataTable =\n",
              "            await google.colab.kernel.invokeFunction('convertToInteractive',\n",
              "                                                     [key], {});\n",
              "          if (!dataTable) return;\n",
              "\n",
              "          const docLinkHtml = 'Like what you see? Visit the ' +\n",
              "            '<a target=\"_blank\" href=https://colab.research.google.com/notebooks/data_table.ipynb>data table notebook</a>'\n",
              "            + ' to learn more about interactive tables.';\n",
              "          element.innerHTML = '';\n",
              "          dataTable['output_type'] = 'display_data';\n",
              "          await google.colab.output.renderOutput(dataTable, element);\n",
              "          const docLink = document.createElement('div');\n",
              "          docLink.innerHTML = docLinkHtml;\n",
              "          element.appendChild(docLink);\n",
              "        }\n",
              "      </script>\n",
              "    </div>\n",
              "  </div>\n",
              "  "
            ]
          },
          "metadata": {},
          "execution_count": 2
        }
      ]
    },
    {
      "cell_type": "markdown",
      "source": [
        "kemudian mengimport data saham google (GOOG) dari finance.yahoo.com\n"
      ],
      "metadata": {
        "id": "9yddExWp7c8r"
      }
    },
    {
      "cell_type": "code",
      "source": [
        "actual_price = df.tail(1)\n",
        "actual_price"
      ],
      "metadata": {
        "colab": {
          "base_uri": "https://localhost:8080/",
          "height": 81
        },
        "id": "vnRf51lTIZNM",
        "outputId": "3f176383-0d61-4223-ac4e-b084a6dabb92"
      },
      "execution_count": null,
      "outputs": [
        {
          "output_type": "execute_result",
          "data": {
            "text/plain": [
              "          Date         Open         High          Low        Close  \\\n",
              "19  2021-05-28  2421.959961  2428.139893  2407.689941  2411.560059   \n",
              "\n",
              "      Adj Close   Volume  \n",
              "19  2411.560059  1205400  "
            ],
            "text/html": [
              "\n",
              "  <div id=\"df-55cdcafd-5f1d-4e84-b51e-fd0a44e05dab\">\n",
              "    <div class=\"colab-df-container\">\n",
              "      <div>\n",
              "<style scoped>\n",
              "    .dataframe tbody tr th:only-of-type {\n",
              "        vertical-align: middle;\n",
              "    }\n",
              "\n",
              "    .dataframe tbody tr th {\n",
              "        vertical-align: top;\n",
              "    }\n",
              "\n",
              "    .dataframe thead th {\n",
              "        text-align: right;\n",
              "    }\n",
              "</style>\n",
              "<table border=\"1\" class=\"dataframe\">\n",
              "  <thead>\n",
              "    <tr style=\"text-align: right;\">\n",
              "      <th></th>\n",
              "      <th>Date</th>\n",
              "      <th>Open</th>\n",
              "      <th>High</th>\n",
              "      <th>Low</th>\n",
              "      <th>Close</th>\n",
              "      <th>Adj Close</th>\n",
              "      <th>Volume</th>\n",
              "    </tr>\n",
              "  </thead>\n",
              "  <tbody>\n",
              "    <tr>\n",
              "      <th>19</th>\n",
              "      <td>2021-05-28</td>\n",
              "      <td>2421.959961</td>\n",
              "      <td>2428.139893</td>\n",
              "      <td>2407.689941</td>\n",
              "      <td>2411.560059</td>\n",
              "      <td>2411.560059</td>\n",
              "      <td>1205400</td>\n",
              "    </tr>\n",
              "  </tbody>\n",
              "</table>\n",
              "</div>\n",
              "      <button class=\"colab-df-convert\" onclick=\"convertToInteractive('df-55cdcafd-5f1d-4e84-b51e-fd0a44e05dab')\"\n",
              "              title=\"Convert this dataframe to an interactive table.\"\n",
              "              style=\"display:none;\">\n",
              "        \n",
              "  <svg xmlns=\"http://www.w3.org/2000/svg\" height=\"24px\"viewBox=\"0 0 24 24\"\n",
              "       width=\"24px\">\n",
              "    <path d=\"M0 0h24v24H0V0z\" fill=\"none\"/>\n",
              "    <path d=\"M18.56 5.44l.94 2.06.94-2.06 2.06-.94-2.06-.94-.94-2.06-.94 2.06-2.06.94zm-11 1L8.5 8.5l.94-2.06 2.06-.94-2.06-.94L8.5 2.5l-.94 2.06-2.06.94zm10 10l.94 2.06.94-2.06 2.06-.94-2.06-.94-.94-2.06-.94 2.06-2.06.94z\"/><path d=\"M17.41 7.96l-1.37-1.37c-.4-.4-.92-.59-1.43-.59-.52 0-1.04.2-1.43.59L10.3 9.45l-7.72 7.72c-.78.78-.78 2.05 0 2.83L4 21.41c.39.39.9.59 1.41.59.51 0 1.02-.2 1.41-.59l7.78-7.78 2.81-2.81c.8-.78.8-2.07 0-2.86zM5.41 20L4 18.59l7.72-7.72 1.47 1.35L5.41 20z\"/>\n",
              "  </svg>\n",
              "      </button>\n",
              "      \n",
              "  <style>\n",
              "    .colab-df-container {\n",
              "      display:flex;\n",
              "      flex-wrap:wrap;\n",
              "      gap: 12px;\n",
              "    }\n",
              "\n",
              "    .colab-df-convert {\n",
              "      background-color: #E8F0FE;\n",
              "      border: none;\n",
              "      border-radius: 50%;\n",
              "      cursor: pointer;\n",
              "      display: none;\n",
              "      fill: #1967D2;\n",
              "      height: 32px;\n",
              "      padding: 0 0 0 0;\n",
              "      width: 32px;\n",
              "    }\n",
              "\n",
              "    .colab-df-convert:hover {\n",
              "      background-color: #E2EBFA;\n",
              "      box-shadow: 0px 1px 2px rgba(60, 64, 67, 0.3), 0px 1px 3px 1px rgba(60, 64, 67, 0.15);\n",
              "      fill: #174EA6;\n",
              "    }\n",
              "\n",
              "    [theme=dark] .colab-df-convert {\n",
              "      background-color: #3B4455;\n",
              "      fill: #D2E3FC;\n",
              "    }\n",
              "\n",
              "    [theme=dark] .colab-df-convert:hover {\n",
              "      background-color: #434B5C;\n",
              "      box-shadow: 0px 1px 3px 1px rgba(0, 0, 0, 0.15);\n",
              "      filter: drop-shadow(0px 1px 2px rgba(0, 0, 0, 0.3));\n",
              "      fill: #FFFFFF;\n",
              "    }\n",
              "  </style>\n",
              "\n",
              "      <script>\n",
              "        const buttonEl =\n",
              "          document.querySelector('#df-55cdcafd-5f1d-4e84-b51e-fd0a44e05dab button.colab-df-convert');\n",
              "        buttonEl.style.display =\n",
              "          google.colab.kernel.accessAllowed ? 'block' : 'none';\n",
              "\n",
              "        async function convertToInteractive(key) {\n",
              "          const element = document.querySelector('#df-55cdcafd-5f1d-4e84-b51e-fd0a44e05dab');\n",
              "          const dataTable =\n",
              "            await google.colab.kernel.invokeFunction('convertToInteractive',\n",
              "                                                     [key], {});\n",
              "          if (!dataTable) return;\n",
              "\n",
              "          const docLinkHtml = 'Like what you see? Visit the ' +\n",
              "            '<a target=\"_blank\" href=https://colab.research.google.com/notebooks/data_table.ipynb>data table notebook</a>'\n",
              "            + ' to learn more about interactive tables.';\n",
              "          element.innerHTML = '';\n",
              "          dataTable['output_type'] = 'display_data';\n",
              "          await google.colab.output.renderOutput(dataTable, element);\n",
              "          const docLink = document.createElement('div');\n",
              "          docLink.innerHTML = docLinkHtml;\n",
              "          element.appendChild(docLink);\n",
              "        }\n",
              "      </script>\n",
              "    </div>\n",
              "  </div>\n",
              "  "
            ]
          },
          "metadata": {},
          "execution_count": 3
        }
      ]
    },
    {
      "cell_type": "markdown",
      "source": [
        "hasil print baris terakhir dari data"
      ],
      "metadata": {
        "id": "e4a1uuaZ7xww"
      }
    },
    {
      "cell_type": "code",
      "source": [
        "#Create the lists / X and y data set\n",
        "days = list()\n",
        "adj_close_prices = list()"
      ],
      "metadata": {
        "id": "lm7XtvAGItg8"
      },
      "execution_count": null,
      "outputs": []
    },
    {
      "cell_type": "markdown",
      "source": [
        "Buat variabel yang akan digunakan sebagai kumpulan data independen dan dependen dengan menyetelnya sama dengan daftar kosong."
      ],
      "metadata": {
        "id": "OJVNbRRn8EUk"
      }
    },
    {
      "cell_type": "code",
      "source": [
        "df_days = df.loc[:, 'Date']\n",
        "df_adj_close = df.loc[:, 'Adj Close']"
      ],
      "metadata": {
        "id": "tYsvNuigI7zk"
      },
      "execution_count": null,
      "outputs": []
    },
    {
      "cell_type": "markdown",
      "source": [
        "Dapatkan semua baris dari kolom Tanggal simpan ke dalam variabel yang disebut 'df_days' dan dapatkan semua baris dari kolom Harga Tutup Penyesuaian dan simpan datanya ke dalam variabel."
      ],
      "metadata": {
        "id": "9igC3OL78hrp"
      }
    },
    {
      "cell_type": "code",
      "source": [
        "#Create the independent data set\n",
        "for day in df_days:\n",
        "   days.append( [int(day.split('-')[2])] )\n",
        "#Create the dependent data set\n",
        "for adj_close_price in df_adj_close:\n",
        "   adj_close_prices.append( float(adj_close_price) )"
      ],
      "metadata": {
        "id": "kLndEhBzJAOW"
      },
      "execution_count": null,
      "outputs": []
    },
    {
      "cell_type": "markdown",
      "source": [
        "Buat kumpulan data independen 'X' dan simpan data dalam variabel 'hari'.\n",
        "Buat kumpulan data dependen 'y' dan simpan data dalam variabel 'adj_close_prices'. Keduanya dapat dilakukan dengan menambahkan data ke masing-masing daftar."
      ],
      "metadata": {
        "id": "ydCORPMk8omL"
      }
    },
    {
      "cell_type": "code",
      "source": [
        "print(days)"
      ],
      "metadata": {
        "colab": {
          "base_uri": "https://localhost:8080/"
        },
        "id": "nLSUj1qzJHPd",
        "outputId": "8bcc1993-bd3c-4512-e504-3b8b52edebf7"
      },
      "execution_count": null,
      "outputs": [
        {
          "output_type": "stream",
          "name": "stdout",
          "text": [
            "[[3], [4], [5], [6], [7], [10], [11], [12], [13], [14], [17], [18], [19], [20], [21], [24], [25], [26], [27], [28]]\n"
          ]
        }
      ]
    },
    {
      "cell_type": "code",
      "source": [
        "#Create and train an SVR model using a linear kernel\n",
        "lin_svr = SVR(kernel='linear', C=1000.0)\n",
        "lin_svr.fit(days,adj_close_prices)#Create and train an SVR model using a polynomial kernel\n",
        "poly_svr = SVR(kernel='poly', C=1000.0, degree=2)\n",
        "poly_svr.fit(days, adj_close_prices)#Create and train an SVR model using a RBF kernel\n",
        "rbf_svr = SVR(kernel='rbf', C=2500.0, gamma=0.35)\n",
        "rbf_svr.fit(days, adj_close_prices)"
      ],
      "metadata": {
        "colab": {
          "base_uri": "https://localhost:8080/"
        },
        "id": "ast-YasMJKVx",
        "outputId": "9940ab28-bdad-426d-83d1-e017a053a13b"
      },
      "execution_count": null,
      "outputs": [
        {
          "output_type": "execute_result",
          "data": {
            "text/plain": [
              "SVR(C=2500.0, gamma=0.35)"
            ]
          },
          "metadata": {},
          "execution_count": 11
        }
      ]
    },
    {
      "cell_type": "markdown",
      "source": [
        "Selanjutnya, saya akan membuat dan melatih 3 model Support Vector Regression (SVR) yang berbeda dengan tiga kernel berbeda untuk melihat mana yang berkinerja terbaik."
      ],
      "metadata": {
        "id": "3QU9Qa708xKJ"
      }
    },
    {
      "cell_type": "code",
      "source": [
        "#Plot the models on a graph to see which has the best fit\n",
        "plt.figure(figsize=(16,8))\n",
        "plt.scatter(days, adj_close_prices, color = 'black', label='Original Data')\n",
        "plt.plot(days, rbf_svr.predict(days), color = 'green', label='RBF Model')\n",
        "plt.plot(days, poly_svr.predict(days), color = 'orange', label='Polynomial Model')\n",
        "plt.plot(days, lin_svr.predict(days), color = 'purple', label='Linear Model')\n",
        "plt.xlabel('Days')\n",
        "plt.ylabel('Adj Close Price')\n",
        "plt.title('Support Vector Regression')\n",
        "plt.legend()\n",
        "plt.show()"
      ],
      "metadata": {
        "colab": {
          "base_uri": "https://localhost:8080/",
          "height": 508
        },
        "id": "Kv9Xt8EXJQvM",
        "outputId": "e0255566-d134-4934-f302-27419d0947ee"
      },
      "execution_count": null,
      "outputs": [
        {
          "output_type": "display_data",
          "data": {
            "text/plain": [
              "<Figure size 1152x576 with 1 Axes>"
            ],
            "image/png": "[encoded data removed]"
          },
          "metadata": {
            "needs_background": "light"
          }
        }
      ]
    },
    {
      "cell_type": "markdown",
      "source": [
        "memplot model pada grafik untuk melihat mana yang paling cocok dan mengembalikan prediksi hari itu.\n",
        "\n",
        "Model terbaik dari grafik di atas\n",
        " ini tampaknya adalah RBF yang merupakan model Regresi Vektor Pendukung yang menggunakan kernel yang disebut fungsi basis radial. Namun grafik ini bisa menyesatkan."
      ],
      "metadata": {
        "id": "x9vQdSkb84Vh"
      }
    },
    {
      "cell_type": "code",
      "source": [
        "day = [[30]]\n",
        "print('The RBF SVR predicted:', rbf_svr.predict(day))\n",
        "print('The Linear SVR predicted:', lin_svr.predict(day))\n",
        "print('The Polynomial SVR predicted:', poly_svr.predict(day))"
      ],
      "metadata": {
        "colab": {
          "base_uri": "https://localhost:8080/"
        },
        "id": "JorxNlH0JWEM",
        "outputId": "7b9ea0a7-7b2a-491e-9e65-1a6b189d1231"
      },
      "execution_count": null,
      "outputs": [
        {
          "output_type": "stream",
          "name": "stdout",
          "text": [
            "The RBF SVR predicted: [2421.34023577]\n",
            "The Linear SVR predicted: [2357.465143]\n",
            "The Polynomial SVR predicted: [2419.19780919]\n"
          ]
        }
      ]
    }
  ]
}
